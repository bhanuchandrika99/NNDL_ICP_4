{
 "cells": [
  {
   "cell_type": "code",
   "execution_count": 15,
   "id": "6b400ac2",
   "metadata": {},
   "outputs": [
    {
     "name": "stdout",
     "output_type": "stream",
     "text": [
      "Statistics of Data:\n",
      "         Duration       Pulse    Maxpulse     Calories\n",
      "count  169.000000  169.000000  169.000000   164.000000\n",
      "mean    63.846154  107.461538  134.047337   375.790244\n",
      "std     42.299949   14.510259   16.450434   266.379919\n",
      "min     15.000000   80.000000  100.000000    50.300000\n",
      "25%     45.000000  100.000000  124.000000   250.925000\n",
      "50%     60.000000  105.000000  131.000000   318.600000\n",
      "75%     60.000000  111.000000  141.000000   387.600000\n",
      "max    300.000000  159.000000  184.000000  1860.400000 \n",
      "\n"
     ]
    }
   ],
   "source": [
    "import pandas as pd\n",
    "import matplotlib.pyplot as plt\n",
    "\n",
    "# Read the CSV file into a Pandas dataframe\n",
    "df = pd.read_csv(r'C:\\Users\\bhanu\\OneDrive\\Documents\\UCM\\Spring24\\Neural Networks\\ICP_4_Spring24\\data.csv')\n",
    "print(\"Statistics of Data:\\n{} \\n\".format(df.describe()))\n"
   ]
  },
  {
   "cell_type": "code",
   "execution_count": 6,
   "id": "c2061260",
   "metadata": {
    "scrolled": true
   },
   "outputs": [
    {
     "name": "stdout",
     "output_type": "stream",
     "text": [
      "Number of null Values in data per column: \n",
      "Duration    0\n",
      "Pulse       0\n",
      "Maxpulse    0\n",
      "Calories    5\n",
      "dtype: int64 \n",
      "\n"
     ]
    }
   ],
   "source": [
    "# Check for null values\n",
    "print(\"Number of null Values in data per column: \\n{} \\n\".format(df.isnull().sum()))\n",
    "\n",
    "# Replace null values with the mean\n",
    "df.fillna(df.mean(), inplace=True)"
   ]
  },
  {
   "cell_type": "code",
   "execution_count": 8,
   "id": "cf4e6737",
   "metadata": {},
   "outputs": [
    {
     "name": "stdout",
     "output_type": "stream",
     "text": [
      "Aggregate data of two columns (Duration, Calories) : \n",
      "          Duration     Calories\n",
      "min     15.000000    50.300000\n",
      "max    300.000000  1860.400000\n",
      "count  169.000000   169.000000\n",
      "mean    63.846154   375.790244 \n",
      "\n"
     ]
    }
   ],
   "source": [
    "# Aggregate data for two columns\n",
    "cols = ['Duration', 'Calories']\n",
    "agg = df[cols].agg(['min', 'max', 'count', 'mean'])\n",
    "print(\"Aggregate data of two columns (Duration, Calories) : \\n {} \\n\".format(agg))"
   ]
  },
  {
   "cell_type": "code",
   "execution_count": 9,
   "id": "6257af57",
   "metadata": {},
   "outputs": [
    {
     "name": "stdout",
     "output_type": "stream",
     "text": [
      "Data with calories between 500 and 1000: \n",
      "      Duration  Pulse  Maxpulse  Calories\n",
      "51         80    123       146     643.1\n",
      "62        160    109       135     853.0\n",
      "65        180     90       130     800.4\n",
      "66        150    105       135     873.4\n",
      "67        150    107       130     816.0\n",
      "72         90    100       127     700.0\n",
      "73        150     97       127     953.2\n",
      "75         90     98       125     563.2\n",
      "78        120    100       130     500.4\n",
      "83        120    100       130     500.0\n",
      "90        180    101       127     600.1\n",
      "99         90     93       124     604.1\n",
      "101        90     90       110     500.0\n",
      "102        90     90       100     500.0\n",
      "103        90     90       100     500.4\n",
      "106       180     90       120     800.3\n",
      "108        90     90       120     500.3 \n",
      "\n"
     ]
    }
   ],
   "source": [
    "# Filter data with calories between 500 and 1000\n",
    "df_500_1000 = df[(df['Calories'] >= 500) & (df['Calories'] <= 1000)]\n",
    "print(\"Data with calories between 500 and 1000: \\n {} \\n\".format(df_500_1000))"
   ]
  },
  {
   "cell_type": "code",
   "execution_count": 10,
   "id": "cb5b07c8",
   "metadata": {},
   "outputs": [
    {
     "name": "stdout",
     "output_type": "stream",
     "text": [
      "Data with calories > 500 and pulse < 100: \n",
      "      Duration  Pulse  Maxpulse  Calories\n",
      "65        180     90       130     800.4\n",
      "70        150     97       129    1115.0\n",
      "73        150     97       127     953.2\n",
      "75         90     98       125     563.2\n",
      "99         90     93       124     604.1\n",
      "103        90     90       100     500.4\n",
      "106       180     90       120     800.3\n",
      "108        90     90       120     500.3 \n",
      "\n"
     ]
    }
   ],
   "source": [
    "# Filter data with calories > 500 and pulse < 100\n",
    "df_500_pulse = df[(df['Calories'] > 500) & (df['Pulse'] < 100)]\n",
    "print(\"Data with calories > 500 and pulse < 100: \\n {} \\n\".format(df_500_pulse))"
   ]
  },
  {
   "cell_type": "code",
   "execution_count": 11,
   "id": "912c03b0",
   "metadata": {},
   "outputs": [],
   "source": [
    "# Create new dataframe without \"Maxpulse\" column\n",
    "df_modified = df.drop('Maxpulse', axis=1)"
   ]
  },
  {
   "cell_type": "code",
   "execution_count": 12,
   "id": "bb6f29ce",
   "metadata": {},
   "outputs": [],
   "source": [
    "# Delete \"Maxpulse\" column from the main df dataframe\n",
    "df.drop('Maxpulse', axis=1, inplace=True)"
   ]
  },
  {
   "cell_type": "code",
   "execution_count": 13,
   "id": "5162e565",
   "metadata": {},
   "outputs": [],
   "source": [
    "# Convert \"Calories\" column to int datatype\n",
    "df['Calories'] = df['Calories'].astype(int)"
   ]
  },
  {
   "cell_type": "code",
   "execution_count": 16,
   "id": "50367c97",
   "metadata": {},
   "outputs": [
    {
     "data": {
      "image/png": "[encoded data removed]",
      "text/plain": [
       "<Figure size 640x480 with 1 Axes>"
      ]
     },
     "metadata": {},
     "output_type": "display_data"
    }
   ],
   "source": [
    "# Scatter plot for \"Duration\" and \"Calories\"\n",
    "\n",
    "plt.scatter(df['Duration'], df['Calories'])\n",
    "plt.xlabel('Duration')\n",
    "plt.ylabel('Calories')\n",
    "plt.show()"
   ]
  }
 ],
 "metadata": {
  "kernelspec": {
   "display_name": "Python 3 (ipykernel)",
   "language": "python",
   "name": "python3"
  },
  "language_info": {
   "codemirror_mode": {
    "name": "ipython",
    "version": 3
   },
   "file_extension": ".py",
   "mimetype": "text/x-python",
   "name": "python",
   "nbconvert_exporter": "python",
   "pygments_lexer": "ipython3",
   "version": "3.11.3"
  }
 },
 "nbformat": 4,
 "nbformat_minor": 5
}
